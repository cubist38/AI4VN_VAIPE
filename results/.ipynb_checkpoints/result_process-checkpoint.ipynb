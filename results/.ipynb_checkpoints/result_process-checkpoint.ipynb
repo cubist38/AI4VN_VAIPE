{
 "cells": [
  {
   "cell_type": "code",
   "execution_count": 1,
   "id": "c4801160",
   "metadata": {},
   "outputs": [],
   "source": [
    "import pandas as pd\n",
    "import json"
   ]
  },
  {
   "cell_type": "code",
   "execution_count": 2,
   "id": "5cd2fcd4",
   "metadata": {},
   "outputs": [],
   "source": [
    "with open('pre_results.json', 'r') as f:\n",
    "    pre_results = json.load(f)"
   ]
  },
  {
   "cell_type": "code",
   "execution_count": 3,
   "id": "e0315889",
   "metadata": {},
   "outputs": [],
   "source": [
    "with open('ocr_output.json', 'r') as f:\n",
    "    ocr = json.load(f)"
   ]
  },
  {
   "cell_type": "code",
   "execution_count": 4,
   "id": "9a21e75b",
   "metadata": {},
   "outputs": [],
   "source": [
    "with open('pill_pres_map.json', 'r') as f:\n",
    "    pill_pres_map = json.load(f)"
   ]
  },
  {
   "cell_type": "code",
   "execution_count": 5,
   "id": "d96ebfc4",
   "metadata": {},
   "outputs": [],
   "source": [
    "pres_pill = {}\n",
    "\n",
    "for dic in pill_pres_map:\n",
    "    pres_name = dic['pres'].split('.')[0] + '.png'\n",
    "    pill_names = []\n",
    "    for pill in dic['pill']:\n",
    "        pill_name = pill.split('.')[0] + '.jpg'\n",
    "        pill_names.append(pill_name)\n",
    "    pres_pill[pres_name] = pill_names"
   ]
  },
  {
   "cell_type": "code",
   "execution_count": 6,
   "id": "1b003881",
   "metadata": {},
   "outputs": [],
   "source": [
    "with open('label_drugnames.json', 'r') as f:\n",
    "    label_drugname = json.load(f)"
   ]
  },
  {
   "cell_type": "code",
   "execution_count": 7,
   "id": "801ad105",
   "metadata": {},
   "outputs": [],
   "source": [
    "img_label = {}\n",
    "for key, value in pre_results.items():\n",
    "    label = []\n",
    "    for dic in value:\n",
    "        label.append({'class_id': dic['class_id'], 'x_min': dic['x_min'], 'y_min': dic['y_min'], 'x_max': dic['x_max'], 'y_max': dic['y_max'], 'confidence_score': dic['confidence_score']})\n",
    "    img_label[key] = label"
   ]
  },
  {
   "cell_type": "code",
   "execution_count": 8,
   "id": "89f8e7ae",
   "metadata": {},
   "outputs": [],
   "source": [
    "def find_label(text):\n",
    "    for t in text:\n",
    "        for dic in label_drugname:\n",
    "            for d in dic['drugnames']:\n",
    "                if text == d:\n",
    "                    return dic['label']\n",
    "    return -1"
   ]
  },
  {
   "cell_type": "code",
   "execution_count": 9,
   "id": "77e6b260",
   "metadata": {},
   "outputs": [
    {
     "name": "stdout",
     "output_type": "stream",
     "text": [
      "[{'label': 0, 'drugnames': ['PARACETAMOL 500MG 500mg']}, {'label': 1, 'drugnames': ['TROYSAR AM 5mg +50mg', 'TYDOL PM 500mg + 25mg']}, {'label': 2, 'drugnames': ['DIXIREIN 375mg', 'Carbocistein (Anpemux) 250mg', 'ANPEMUX 250mg']}, {'label': 3, 'drugnames': ['MEDIPLEX 800mg']}, {'label': 4, 'drugnames': ['BECOSEMID 40mg']}, {'label': 5, 'drugnames': ['SERGUROP 10mg']}, {'label': 6, 'drugnames': ['SADAPRON 300 300mg']}, {'label': 7, 'drugnames': ['STATRIPSINE 4,2mg', 'ALFACHIM 4,2mg', 'KATRYPSIN 4,2mg']}, {'label': 8, 'drugnames': ['CARDILOPIN 5mg', 'PAMLONOR 5mg', 'KAVASDIN 5 5mg', 'AMCARDIA-5 5mg']}, {'label': 9, 'drugnames': ['AMOXYCILIN 250MG 0,25g']}, {'label': 10, 'drugnames': ['Amoxicilin (Fabamox 500) 500mg', 'FABAMOX 500MG 500mg', 'NOVOXIM-500 0,5g', 'AMOXICILLIN 500MG 0,5g', 'AMOXICILIN 500MG 500mg', 'FABAMOX 500 500mg']}, {'label': 11, 'drugnames': ['ASPIRIN 81MG 81mg']}, {'label': 12, 'drugnames': ['INBACID 10 10mg', 'LENINARTO 10 10mg']}, {'label': 13, 'drugnames': ['ATORIS 20MG 20mg']}, {'label': 14, 'drugnames': ['INBACID 10 10mg', 'SERGUROP 10mg', 'LENINARTO 10 10mg']}, {'label': 15, 'drugnames': ['ATORIS 20MG 20mg', 'Đinh lăng, bạch quả (Hoạt huyết dưỡng não) 150mg+20mg', 'Atorvastatin (Atoris 20mg) 20mg']}, {'label': 16, 'drugnames': ['AVARINO 60mg+300mg']}, {'label': 17, 'drugnames': ['CEFIXIM 200 200mg']}, {'label': 18, 'drugnames': ['Bố GAN P/H 125mg+100mg+25mg']}, {'label': 19, 'drugnames': ['CEFADROXIL 500MG 0,5g', 'CEFADROXIL 0,5g', 'DROXICEF 500MG 0,5g', 'CEFADROXIL 500MG 500mg', 'DROXICEF 0,5g']}, {'label': 20, 'drugnames': ['TIOGA 33,33mg+1g+0,34g+0,25g+0,17g']}, {'label': 21, 'drugnames': ['DIXIREIN 375mg']}, {'label': 22, 'drugnames': ['CARDILOPIN 5mg']}, {'label': 23, 'drugnames': ['CARUDXAN 2mg']}, {'label': 24, 'drugnames': ['XITORAN 0,5g', 'CEFADROXIL 500MG 0,5g', 'CEFADROXIL 0,5g']}, {'label': 25, 'drugnames': ['CEPHALEXIN 250MG 0,25g']}, {'label': 26, 'drugnames': ['CEPHALEXIN PMP 500 0,5g', 'Cefalexin (Firstlexin 500) 0,5g', 'CEFACYL 500 0,5g', 'HAPENXIN CAPSULES 0,5g']}, {'label': 27, 'drugnames': ['INGARON 200 DST 200mg']}, {'label': 28, 'drugnames': ['ALFACHIM 4,2mg']}, {'label': 29, 'drugnames': ['Chlorpheniramin (hydrogen maleat) (Clorpheniramin) 4mg', 'CLORPHENIRAMIN 4mg']}, {'label': 30, 'drugnames': ['COLCHICIN 1mg', 'GOUTCOLCIN 1mg']}, {'label': 31, 'drugnames': ['SAVI PROLOL 5 5mg']}, {'label': 32, 'drugnames': ['COSYNDO B 175mg+175mg+125mcg']}, {'label': 33, 'drugnames': ['BLOZA 50mg']}, {'label': 34, 'drugnames': ['FUDCIME 200MG 200mg']}, {'label': 35, 'drugnames': ['CHORLATCYN 125mg+50mg+50mg+25mg']}, {'label': 36, 'drugnames': ['DROMASM FORT 80mg', 'Drotaverin clohydrat (Dromasm fort) 80mg']}, {'label': 37, 'drugnames': [\"DIAMICRON MR TAB 60MG 30'S 60mg\", 'GOLDDICRON 30mg', 'PYME DIAPRO MR 30mg', 'Gliclazid (Golddicron) 30mg', \"DIAMICRON MR TAB 30MG 60'S 30mg\"]}, {'label': 38, 'drugnames': ['LAZIBET MR 60 60mg', 'GLUZITOP MR 60 60mg']}, {'label': 39, 'drugnames': ['DICLOFENAC 50mg']}, {'label': 40, 'drugnames': ['MEZAFEN 60mg', 'Loxoprofen (Mezafen) 60mg', 'DICLOFENAC 50mg']}, {'label': 41, 'drugnames': ['SAVIPROLOL 2,5 2,5mg', 'Bisoprolol (SaviProlol 2,5) 2,5mg']}, {'label': 42, 'drugnames': ['Gliclazid (Golddicron) 30mg', 'DOROCRON - MR 30mg']}, {'label': 43, 'drugnames': ['CEFADROXIL 500MG 0,5g', 'CEFADROXIL 0,5g', 'XITORAN 0,5g', 'DROXICEF 500MG 0,5g', 'CEFADROXIL 500MG 500mg', 'DROXICEF 0,5g']}, {'label': 44, 'drugnames': ['DƯỠNG TÂM AN THẦN']}, {'label': 45, 'drugnames': ['Enalapril thydrochlorothiazide (Ebitac 12.5) 10mg + 12,5mg', 'EBITAC 12.5 10mg + 12,5mg']}, {'label': 46, 'drugnames': ['ENALAPRIL 5mg']}, {'label': 47, 'drugnames': ['RENAPRIL 5MG 5mg']}, {'label': 48, 'drugnames': ['DROMASM FORT 80mg', 'Drotaverin clohydrat (Dromasm fort) 80mg']}, {'label': 49, 'drugnames': ['FABAMOX 500MG 500mg']}, {'label': 50, 'drugnames': ['FAMOGAST 40mg']}, {'label': 51, 'drugnames': ['METRONIDAZOL 250mg', 'Metronidazol (Metronidazol 250) 250 mg', 'METRONIDAZOL 250 250mg']}, {'label': 52, 'drugnames': ['MEDIBOGAN 200mg + 150mg + 16mg']}, {'label': 53, 'drugnames': ['GLUCOFAST 850 850mg']}, {'label': 54, 'drugnames': ['METFORMIN 500 500mg', 'Metformin (Metformin 500) 500mg', 'GLUCOFAST 500 500mg']}, {'label': 55, 'drugnames': [\"MEGLUCON TAB 850MG 3X10'S 850mg\", 'GLUCOFAST 850 850mg']}, {'label': 56, 'drugnames': ['MEGLUCON 1000 1000mg', 'Metformin (Meglucon 1000) 1000 mg']}, {'label': 57, 'drugnames': ['GLUCOFAST 850 850mg']}, {'label': 58, 'drugnames': ['FIBROFIN-145 145mg']}, {'label': 59, 'drugnames': ['BROMHEXIN ACTAVIS 8mg', 'BROMHEXIN ACTAVIS 8MG 8mg']}, {'label': 60, 'drugnames': ['PARACETAMOL 500MG 500mg', 'TYDOL PM 500mg + 25mg']}, {'label': 61, 'drugnames': ['HAPENXIN CAPSULES 0,5g', 'Cefalexin (Firstlexin 500) 0,5g', 'CEFACYL 500 0,5g']}, {'label': 62, 'drugnames': ['KAHAGAN 0,1g+0,075g+0,075g']}, {'label': 63, 'drugnames': ['BROMHEXIN ACTAVIS 8mg', 'BROMHEXIN ACTAVIS 8MG 8mg']}, {'label': 64, 'drugnames': ['Atorvastatin (Atoris 20mg) 20mg', 'HOẠT HUYẾT DƯỠNG NÃO BDF 150mg+5mg', 'Đinh lăng, bạch quả (Hoạt huyết dưỡng não) 150mg+20mg', 'HOẠT HUYẾT DƯỠNG NÃO 150mg+20mg', 'HOẠT HUYẾT DƯỠNG NÃO QN 150mg+20mg']}, {'label': 65, 'drugnames': ['BỐ HUYẾT ÍCH NÃO BDF 40mg+300mg']}, {'label': 66, 'drugnames': ['KAGASDINE 20mg']}, {'label': 67, 'drugnames': ['Kim tiền thảo, râu ngô (Kim tiền thảo) 120mg+35mg']}, {'label': 68, 'drugnames': ['LIVONIC 2500mg+400mg+500mg+85mg']}, {'label': 69, 'drugnames': ['GAPHYTON S 100mg+75mg+7,5mg']}, {'label': 70, 'drugnames': ['SERGUROP 10mg', 'VACO LORATADINE 10mg', 'Loratadin (Sergurop) 10mg']}, {'label': 71, 'drugnames': ['VACO LORATADINE 10mg']}, {'label': 72, 'drugnames': ['SAVILOSARTAN 50 50mg', 'SAVI LOSARTAN 50 50mg']}, {'label': 73, 'drugnames': ['MENISON 16MG 16mg', 'METHYLSOLONE 16MG 16mg', 'VIPREDNI 16MG 16mg']}, {'label': 74, 'drugnames': ['Methyl prednisolon (Methylprednisolon 4) 4mg', 'METHYLPREDNISOLON 4 4mg', 'MENISON 4mg', 'MENISON 4MG 4mg']}, {'label': 75, 'drugnames': ['MENISON 16MG 16mg', 'VIPREDNI 16MG 16mg']}, {'label': 76, 'drugnames': ['Methyl prednisolon (Methylprednisolon 4) 4mg', 'METHYLPREDNISOLON 4 4mg']}, {'label': 77, 'drugnames': ['VIPREDNI 16MG 16mg']}, {'label': 78, 'drugnames': ['MEZAFEN 60mg', 'Loxoprofen (Mezafen) 60mg']}, {'label': 79, 'drugnames': ['HANGITOR PLUS 40mg+12,5mg', 'Telmisartan % hydroclorothiazid (Hangitor plus) 40mg+12,5mg']}, {'label': 80, 'drugnames': ['MILURIT 300mg']}, {'label': 81, 'drugnames': ['OTDXICAM 7.5mg', 'MELOXICAM 7,5mg']}, {'label': 82, 'drugnames': ['NOVOXIM-500 0,5g']}, {'label': 83, 'drugnames': ['THANH NHIỆT TIÊU ĐỘC LIVERGOOD']}, {'label': 84, 'drugnames': ['NIFEDIPIN T20 STADA RETARD 20mg', 'NIFEDIPIN HASAN 20 RETARD 20mg']}, {'label': 85, 'drugnames': ['NORMAGUT 250mg']}, {'label': 86, 'drugnames': ['Olanzapin 10mg (Olanxol)']}, {'label': 87, 'drugnames': ['Omeprazol (Kagasdine) 20mg', 'KAGASDINE 20mg']}, {'label': 88, 'drugnames': ['PANACTOL 500mg']}, {'label': 89, 'drugnames': ['PANACTOL 500mg', 'PARTAMOL TAB. 500mg', 'PARACETAMOL 500MG 500mg', 'MYPARA 500 500mg', 'Paracetamol (Partamol Tab.) 500mg']}, {'label': 90, 'drugnames': ['PANACTOL 500mg', 'PARTAMOL TAB. 500mg', 'MYPARA 500 500mg']}, {'label': 91, 'drugnames': ['PANACTOL 500mg', 'PARTAMOL TAB. 500mg', 'PARACETAMOL 500MG 500mg', 'MYPARA 500 500mg', 'Paracetamol (Partamol Tab.) 500mg']}, {'label': 92, 'drugnames': ['STACETAM 800MG 800mg']}, {'label': 93, 'drugnames': ['PRAZOPRO 40mg']}, {'label': 94, 'drugnames': ['SPASVINA 40mg']}, {'label': 95, 'drugnames': ['VENRUTINE 100mg +500mg']}, {'label': 96, 'drugnames': ['SAVI ACARBOSE 100 100mg']}, {'label': 97, 'drugnames': ['CHORLATCYN 125mg+50mg+50mg+25mg', 'CHORLATCYN 125mg;50mg;50mg;25mg']}, {'label': 98, 'drugnames': ['ALVERIN 40mg']}, {'label': 99, 'drugnames': ['PANACTOL 500mg', 'PARTAMOL TAB. 500mg', 'MYPARA 500 500mg', 'PARACETAMOL 500MG 500mg', 'Paracetamol (Partamol Tab.) 500mg']}, {'label': 100, 'drugnames': ['SETBLOOD 115mg+100mg+50mcg']}, {'label': 101, 'drugnames': ['TYDOL PM 500mg + 25mg']}, {'label': 102, 'drugnames': ['VENRUTINE 100mg +500mg']}, {'label': 103, 'drugnames': ['VITAMINAD 2500ui+200ui', 'VINA-AD 2000ui+ 400ui']}, {'label': 104, 'drugnames': ['SAVI 3B 100mg+100mg+0,15mg', 'Vitamin b1 + b6 + b12 (Savi 3B) 100mg+100mg+0,15mg', 'COSYNDO B 175mg+175mg+125mcg', 'SETBLOOD 115mg+100mg+50mcg', 'COSYNDO B 175mg+175mg+125mg']}, {'label': 105, 'drugnames': ['VITAMIN C STADA 1G 1g']}, {'label': 106, 'drugnames': ['C1000 FLOODE 1g']}]\n"
     ]
    }
   ],
   "source": [
    "print(label_drugname)"
   ]
  },
  {
   "cell_type": "code",
   "execution_count": 10,
   "id": "660baafb",
   "metadata": {},
   "outputs": [
    {
     "name": "stdout",
     "output_type": "stream",
     "text": [
      "{'VAIPE_P_TEST_0.png': ['KAVASDIN 5 5mg', 'MYPARA 500 500mg', 'NOVOXIM-500 0,5g'], 'VAIPE_P_TEST_1.png': ['MEGLUCON 1000 1000mg'], 'VAIPE_P_TEST_10.png': ['GLUCOFAST 500 500mg'], 'VAIPE_P_TEST_100.png': ['PANACTOL 500mg', 'CEFADROXIL 500MG 0,5g'], 'VAIPE_P_TEST_101.png': ['PANACTOL 500mg', 'CEFADROXIL 500MG 0,5g'], 'VAIPE_P_TEST_102.png': ['PANACTOL 500mg', 'CEFADROXIL 500MG 0,5g'], 'VAIPE_P_TEST_103.png': ['MYPARA 500 500mg', 'COLCHICIN 1mg'], 'VAIPE_P_TEST_104.png': ['BỐ HUYẾT ÍCH NÃO BDF 40mg+300mg', 'HANGITOR PLUS 40mg+12,5mg'], 'VAIPE_P_TEST_105.png': ['MENISON 4MG 4mg', 'DIXIREIN 375mg', 'DROXICEF 0,5g'], 'VAIPE_P_TEST_106.png': ['VINA-AD 2000ui+ 400ui', 'PANACTOL 500mg'], 'VAIPE_P_TEST_107.png': ['PANACTOL 500mg', 'METRONIDAZOL 250 250mg', 'HAPENXIN CAPSULES 0,5g'], 'VAIPE_P_TEST_108.png': ['KAVASDIN 5 5mg'], 'VAIPE_P_TEST_109.png': ['TYDOL PM 500mg + 25mg', 'FABAMOX 500 500mg'], 'VAIPE_P_TEST_11.png': ['GLUCOFAST 500 500mg'], 'VAIPE_P_TEST_110.png': ['COSYNDO B 175mg+175mg+125mcg', 'SAVILOSARTAN 50 50mg'], 'VAIPE_P_TEST_111.png': ['MEZAFEN 60mg'], 'VAIPE_P_TEST_112.png': ['SETBLOOD 115mg+100mg+50mcg', 'MENISON 16MG 16mg', 'MYPARA 500 500mg', 'BROMHEXIN ACTAVIS 8MG 8mg', 'CEFADROXIL 0,5g'], 'VAIPE_P_TEST_113.png': ['HOẠT HUYẾT DƯỠNG NÃO 150mg+20mg', 'SAVI PROLOL 5 5mg', 'HANGITOR PLUS 40mg+12,5mg'], 'VAIPE_P_TEST_114.png': ['VIPREDNI 16MG 16mg', 'CEFADROXIL 500MG 0,5g'], 'VAIPE_P_TEST_115.png': ['PARTAMOL TAB. 500mg', 'DROXICEF 0,5g'], 'VAIPE_P_TEST_116.png': ['ATORIS 20MG 20mg', 'MEGLUCON 1000 1000mg'], 'VAIPE_P_TEST_117.png': ['ENALAPRIL 5mg', 'LAZIBET MR 60 60mg', 'GLUCOFAST 500 500mg'], 'VAIPE_P_TEST_118.png': ['KAVASDIN 5 5mg', 'ENALAPRIL 5mg'], 'VAIPE_P_TEST_119.png': ['BLOZA 50mg', 'GLUCOFAST 500 500mg'], 'VAIPE_P_TEST_12.png': ['BROMHEXIN ACTAVIS 8MG 8mg', 'VIPREDNI 16MG 16mg', 'CEFADROXIL 0,5g'], 'VAIPE_P_TEST_120.png': ['ATORIS 20MG 20mg', 'HOẠT HUYẾT DƯỠNG NÃO 150mg+20mg'], 'VAIPE_P_TEST_121.png': ['XITORAN 0,5g'], 'VAIPE_P_TEST_122.png': ['STACETAM 800MG 800mg'], 'VAIPE_P_TEST_123.png': ['LIVONIC 2500mg+400mg+500mg+85mg'], 'VAIPE_P_TEST_124.png': ['TYDOL PM 500mg + 25mg', 'CEPHALEXIN PMP 500 0,5g'], 'VAIPE_P_TEST_125.png': ['PARACETAMOL 500MG 500mg', 'CEFACYL 500 0,5g'], 'VAIPE_P_TEST_126.png': ['CLORPHENIRAMIN 4mg', 'FABAMOX 500 500mg'], 'VAIPE_P_TEST_127.png': ['PANACTOL 500mg'], 'VAIPE_P_TEST_128.png': ['DIXIREIN 375mg', 'CEFADROXIL 500MG 0,5g'], 'VAIPE_P_TEST_129.png': ['CHORLATCYN 125mg+50mg+50mg+25mg', 'SERGUROP 10mg'], 'VAIPE_P_TEST_13.png': ['LAZIBET MR 60 60mg', 'GLUCOFAST 850 850mg'], 'VAIPE_P_TEST_130.png': ['CHORLATCYN 125mg+50mg+50mg+25mg', 'GOLDDICRON 30mg'], 'VAIPE_P_TEST_131.png': ['Paracetamol (Partamol Tab.) 500mg', 'Methyl prednisolon (Methylprednisolon 4) 4mg', 'Amoxicilin (Fabamox 500) 500mg'], 'VAIPE_P_TEST_132.png': ['CLORPHENIRAMIN 4mg', 'PARTAMOL TAB. 500mg', 'CEFADROXIL 500MG 0,5g'], 'VAIPE_P_TEST_133.png': ['PARTAMOL TAB. 500mg', 'METRONIDAZOL 250 250mg'], 'VAIPE_P_TEST_134.png': ['MENISON 4MG 4mg'], 'VAIPE_P_TEST_135.png': ['PANACTOL 500mg', 'ENALAPRIL 5mg'], 'VAIPE_P_TEST_136.png': ['INBACID 10 10mg', 'PAMLONOR 5mg', 'ENALAPRIL 5mg'], 'VAIPE_P_TEST_137.png': ['LAZIBET MR 60 60mg'], 'VAIPE_P_TEST_138.png': ['MYPARA 500 500mg', 'XITORAN 0,5g'], 'VAIPE_P_TEST_139.png': ['Đinh lăng, bạch quả (Hoạt huyết dưỡng não) 150mg+20mg', 'Carbocistein (Anpemux) 250mg', 'Cefalexin (Firstlexin 500) 0,5g'], 'VAIPE_P_TEST_14.png': ['GLUCOFAST 850 850mg'], 'VAIPE_P_TEST_140.png': ['MYPARA 500 500mg'], 'VAIPE_P_TEST_141.png': ['Atorvastatin (Atoris 20mg) 20mg', 'Metformin (Metformin 500) 500mg'], 'VAIPE_P_TEST_142.png': ['HOẠT HUYẾT DƯỠNG NÃO BDF 150mg+5mg', 'PANACTOL 500mg', 'NOVOXIM-500 0,5g'], 'VAIPE_P_TEST_143.png': ['PANACTOL 500mg', 'DIXIREIN 375mg', 'CEFADROXIL 500MG 0,5g'], 'VAIPE_P_TEST_144.png': ['COSYNDO B 175mg+175mg+125mcg', 'PANACTOL 500mg', 'CEFADROXIL 500MG 500mg'], 'VAIPE_P_TEST_145.png': ['ALFACHIM 4,2mg', 'MYPARA 500 500mg', 'CEFADROXIL 0,5g'], 'VAIPE_P_TEST_146.png': ['Carbocistein (Anpemux) 250mg', 'Methyl prednisolon (Methylprednisolon 4) 4mg', 'Cefalexin (Firstlexin 500) 0,5g'], 'VAIPE_P_TEST_147.png': ['METRONIDAZOL 250mg', 'AMOXICILLIN 500MG 0,5g'], 'VAIPE_P_TEST_148.png': ['DROMASM FORT 80mg', 'METRONIDAZOL 250mg'], 'VAIPE_P_TEST_149.png': ['HANGITOR PLUS 40mg+12,5mg', 'PYME DIAPRO MR 30mg'], 'VAIPE_P_TEST_15.png': [\"DIAMICRON MR TAB 30MG 60'S 30mg\", 'GLUCOFAST 500 500mg'], 'VAIPE_P_TEST_150.png': ['VIPREDNI 16MG 16mg', 'DIXIREIN 375mg', 'CEFADROXIL 500MG 0,5g'], 'VAIPE_P_TEST_151.png': ['HOẠT HUYẾT DƯỠNG NÃO 150mg+20mg', 'MYPARA 500 500mg', 'NOVOXIM-500 0,5g'], 'VAIPE_P_TEST_152.png': ['BROMHEXIN ACTAVIS 8MG 8mg', 'AMOXICILLIN 500MG 0,5g'], 'VAIPE_P_TEST_153.png': ['AMOXICILLIN 500MG 0,5g', 'ENALAPRIL 5mg'], 'VAIPE_P_TEST_154.png': ['METRONIDAZOL 250mg', 'MYPARA 500 500mg', 'CEFADROXIL 0,5g'], 'VAIPE_P_TEST_155.png': ['BLOZA 50mg', 'MYPARA 500 500mg', 'CEFADROXIL 0,5g'], 'VAIPE_P_TEST_156.png': ['DICLOFENAC 50mg', 'PARACETAMOL 500MG 500mg', 'CEFACYL 500 0,5g'], 'VAIPE_P_TEST_157.png': ['MEDIBOGAN 200mg + 150mg + 16mg', 'VACO LORATADINE 10mg', 'CEFACYL 500 0,5g'], 'VAIPE_P_TEST_158.png': ['SETBLOOD 115mg+100mg+50mcg', 'STATRIPSINE 4,2mg', 'MYPARA 500 500mg', 'CEFADROXIL 0,5g'], 'VAIPE_P_TEST_159.png': ['CLORPHENIRAMIN 4mg', 'PANACTOL 500mg', 'CEFACYL 500 0,5g', 'NIFEDIPIN HASAN 20 RETARD 20mg'], 'VAIPE_P_TEST_16.png': ['STACETAM 800MG 800mg', 'LENINARTO 10 10mg', 'TROYSAR AM 5mg +50mg'], 'VAIPE_P_TEST_160.png': ['STATRIPSINE 4,2mg'], 'VAIPE_P_TEST_161.png': ['VITAMIN C STADA 1G 1g', 'PARACETAMOL 500MG 500mg', 'CEFACYL 500 0,5g'], 'VAIPE_P_TEST_162.png': ['PANACTOL 500mg', 'MEZAFEN 60mg', 'HOẠT HUYẾT DƯỠNG NÃO 150mg+20mg', 'CARDILOPIN 5mg'], 'VAIPE_P_TEST_163.png': ['VIPREDNI 16MG 16mg', 'DIXIREIN 375mg', 'PANACTOL 500mg', 'CEFADROXIL 500MG 0,5g'], 'VAIPE_P_TEST_164.png': ['SETBLOOD 115mg+100mg+50mcg', 'MENISON 16MG 16mg', 'MYPARA 500 500mg', 'CEFADROXIL 0,5g'], 'VAIPE_P_TEST_165.png': ['EBITAC 12.5 10mg + 12,5mg', 'STACETAM 800MG 800mg'], 'VAIPE_P_TEST_166.png': ['HOẠT HUYẾT DƯỠNG NÃO 150mg+20mg', 'CARDILOPIN 5mg'], 'VAIPE_P_TEST_167.png': ['LENINARTO 10 10mg', 'STACETAM 800MG 800mg', 'TROYSAR AM 5mg +50mg'], 'VAIPE_P_TEST_168.png': ['METRONIDAZOL 250 250mg', 'CARUDXAN 2mg'], 'VAIPE_P_TEST_169.png': ['STACETAM 800MG 800mg', 'LENINARTO 10 10mg', 'TROYSAR AM 5mg +50mg'], 'VAIPE_P_TEST_17.png': ['STATRIPSINE 4,2mg', 'PARACETAMOL 500MG 500mg'], 'VAIPE_P_TEST_170.png': ['SETBLOOD 115mg+100mg+50mcg', 'XITORAN 0,5g'], 'VAIPE_P_TEST_171.png': ['VENRUTINE 100mg +500mg'], 'VAIPE_P_TEST_18.png': ['MEZAFEN 60mg', 'HOẠT HUYẾT DƯỠNG NÃO 150mg+20mg'], 'VAIPE_P_TEST_19.png': ['NIFEDIPIN HASAN 20 RETARD 20mg'], 'VAIPE_P_TEST_2.png': ['MEGLUCON 1000 1000mg'], 'VAIPE_P_TEST_20.png': ['HOẠT HUYẾT DƯỠNG NÃO 150mg+20mg', 'MEZAFEN 60mg'], 'VAIPE_P_TEST_21.png': ['DROMASM FORT 80mg', 'FABAMOX 500 500mg'], 'VAIPE_P_TEST_22.png': ['PANACTOL 500mg', 'VIPREDNI 16MG 16mg', 'DIXIREIN 375mg', 'INGARON 200 DST 200mg'], 'VAIPE_P_TEST_23.png': ['Đinh lăng, bạch quả (Hoạt huyết dưỡng não) 150mg+20mg', 'Atorvastatin (Atoris 20mg) 20mg', 'Bisoprolol (SaviProlol 2,5) 2,5mg', 'Telmisartan % hydroclorothiazid (Hangitor plus) 40mg+12,5mg'], 'VAIPE_P_TEST_24.png': ['KATRYPSIN 4,2mg', 'PANACTOL 500mg'], 'VAIPE_P_TEST_25.png': ['KATRYPSIN 4,2mg', 'PANACTOL 500mg'], 'VAIPE_P_TEST_26.png': ['Atorvastatin (Atoris 20mg) 20mg', 'Telmisartan % hydroclorothiazid (Hangitor plus) 40mg+12,5mg'], 'VAIPE_P_TEST_27.png': ['Atorvastatin (Atoris 20mg) 20mg', 'Telmisartan % hydroclorothiazid (Hangitor plus) 40mg+12,5mg'], 'VAIPE_P_TEST_28.png': ['PANACTOL 500mg', 'CLORPHENIRAMIN 4mg', 'AMOXICILIN 500MG 500mg'], 'VAIPE_P_TEST_29.png': ['Đinh lăng, bạch quả (Hoạt huyết dưỡng não) 150mg+20mg', 'Metformin (Metformin 500) 500mg'], 'VAIPE_P_TEST_3.png': ['METRONIDAZOL 250 250mg', 'CARUDXAN 2mg'], 'VAIPE_P_TEST_30.png': ['VINA-AD 2000ui+ 400ui', 'HOẠT HUYẾT DƯỠNG NÃO 150mg+20mg'], 'VAIPE_P_TEST_31.png': ['VIPREDNI 16MG 16mg', 'DIXIREIN 375mg', 'PANACTOL 500mg', 'CEFADROXIL 500MG 0,5g'], 'VAIPE_P_TEST_32.png': ['CEPHALEXIN 250MG 0,25g'], 'VAIPE_P_TEST_33.png': ['THANH NHIỆT TIÊU ĐỘC LIVERGOOD'], 'VAIPE_P_TEST_34.png': ['METRONIDAZOL 250 250mg', 'PARTAMOL TAB. 500mg', 'FABAMOX 500 500mg'], 'VAIPE_P_TEST_35.png': ['HOẠT HUYẾT DƯỠNG NÃO 150mg+20mg', 'SAVILOSARTAN 50 50mg'], 'VAIPE_P_TEST_36.png': ['BECOSEMID 40mg'], 'VAIPE_P_TEST_37.png': ['SETBLOOD 115mg+100mg+50mcg', 'KAVASDIN 5 5mg'], 'VAIPE_P_TEST_38.png': ['HOẠT HUYẾT DƯỠNG NÃO 150mg+20mg', 'KAGASDINE 20mg', 'FABAMOX 500 500mg'], 'VAIPE_P_TEST_39.png': ['BLOZA 50mg'], 'VAIPE_P_TEST_4.png': ['MYPARA 500 500mg', 'VIPREDNI 16MG 16mg', 'CEFADROXIL 0,5g'], 'VAIPE_P_TEST_40.png': ['PANACTOL 500mg', 'DIXIREIN 375mg', 'INGARON 200 DST 200mg'], 'VAIPE_P_TEST_41.png': ['HOẠT HUYẾT DƯỠNG NÃO 150mg+20mg', 'PAMLONOR 5mg', 'ENALAPRIL 5mg'], 'VAIPE_P_TEST_42.png': ['Đinh lăng, bạch quả (Hoạt huyết dưỡng não) 150mg+20mg', 'Metronidazol (Metronidazol 250) 250 mg', 'Paracetamol (Partamol Tab.) 500mg', 'Amoxicilin (Fabamox 500) 500mg'], 'VAIPE_P_TEST_43.png': ['HOẠT HUYẾT DƯỠNG NÃO 150mg+20mg', 'ENALAPRIL 5mg'], 'VAIPE_P_TEST_44.png': ['HOẠT HUYẾT DƯỠNG NÃO 150mg+20mg', 'ENALAPRIL 5mg'], 'VAIPE_P_TEST_45.png': ['Paracetamol (Partamol Tab.) 500mg', 'Cefalexin (Firstlexin 500) 0,5g'], 'VAIPE_P_TEST_46.png': ['Paracetamol (Partamol Tab.) 500mg', 'Cefalexin (Firstlexin 500) 0,5g'], 'VAIPE_P_TEST_47.png': ['Vitamin b1 + b6 + b12 (Savi 3B) 100mg+100mg+0,15mg', 'Paracetamol (Partamol Tab.) 500mg'], 'VAIPE_P_TEST_48.png': ['PANACTOL 500mg', 'HAPENXIN CAPSULES 0,5g'], 'VAIPE_P_TEST_49.png': ['Vitamin b1 + b6 + b12 (Savi 3B) 100mg+100mg+0,15mg', 'Paracetamol (Partamol Tab.) 500mg', 'Amoxicilin (Fabamox 500) 500mg'], 'VAIPE_P_TEST_5.png': ['FIBROFIN-145 145mg'], 'VAIPE_P_TEST_50.png': ['Đinh lăng, bạch quả (Hoạt huyết dưỡng não) 150mg+20mg', 'Paracetamol (Partamol Tab.) 500mg', 'Cefalexin (Firstlexin 500) 0,5g'], 'VAIPE_P_TEST_51.png': ['MYPARA 500 500mg', 'ALFACHIM 4,2mg'], 'VAIPE_P_TEST_52.png': ['SETBLOOD 115mg+100mg+50mcg', 'MYPARA 500 500mg', 'CEFADROXIL 0,5g'], 'VAIPE_P_TEST_53.png': [\"DIAMICRON MR TAB 30MG 60'S 30mg\", 'GLUCOFAST 850 850mg'], 'VAIPE_P_TEST_54.png': ['DOROCRON - MR 30mg'], 'VAIPE_P_TEST_55.png': [\"DIAMICRON MR TAB 60MG 30'S 60mg\", 'MEGLUCON 1000 1000mg'], 'VAIPE_P_TEST_56.png': ['TYDOL PM 500mg + 25mg', 'HAPENXIN CAPSULES 0,5g'], 'VAIPE_P_TEST_57.png': ['INBACID 10 10mg', 'SAVIPROLOL 2,5 2,5mg', 'ASPIRIN 81MG 81mg', 'ENALAPRIL 5mg'], 'VAIPE_P_TEST_58.png': ['Đinh lăng, bạch quả (Hoạt huyết dưỡng não) 150mg+20mg', 'Telmisartan % hydroclorothiazid (Hangitor plus) 40mg+12,5mg'], 'VAIPE_P_TEST_59.png': ['SADAPRON 300 300mg', 'COLCHICIN 1mg'], 'VAIPE_P_TEST_6.png': ['PARTAMOL TAB. 500mg', 'HAPENXIN CAPSULES 0,5g'], 'VAIPE_P_TEST_60.png': ['DROMASM FORT 80mg', 'METRONIDAZOL 250 250mg', 'FABAMOX 500 500mg'], 'VAIPE_P_TEST_61.png': ['RENAPRIL 5MG 5mg', 'GLUCOFAST 500 500mg'], 'VAIPE_P_TEST_62.png': ['CHORLATCYN 125mg+50mg+50mg+25mg'], 'VAIPE_P_TEST_63.png': ['CHORLATCYN 125mg+50mg+50mg+25mg'], 'VAIPE_P_TEST_64.png': ['ENALAPRIL 5mg', 'PYME DIAPRO MR 30mg', 'MEGLUCON 1000 1000mg'], 'VAIPE_P_TEST_65.png': ['HOẠT HUYẾT DƯỠNG NÃO 150mg+20mg', 'PARTAMOL TAB. 500mg', 'METRONIDAZOL 250 250mg', 'AMOXICILIN 500MG 500mg'], 'VAIPE_P_TEST_66.png': ['PANACTOL 500mg', 'AMCARDIA-5 5mg'], 'VAIPE_P_TEST_67.png': ['Loratadin (Sergurop) 10mg', 'Paracetamol (Partamol Tab.) 500mg', 'Cefalexin (Firstlexin 500) 0,5g'], 'VAIPE_P_TEST_68.png': ['ENALAPRIL 5mg'], 'VAIPE_P_TEST_69.png': ['DROMASM FORT 80mg', 'AMOXICILIN 500MG 500mg'], 'VAIPE_P_TEST_7.png': ['LENINARTO 10 10mg', 'EBITAC 12.5 10mg + 12,5mg'], 'VAIPE_P_TEST_70.png': ['MYPARA 500 500mg', 'KAVASDIN 5 5mg'], 'VAIPE_P_TEST_71.png': ['MYPARA 500 500mg', 'KAVASDIN 5 5mg'], 'VAIPE_P_TEST_72.png': ['HOẠT HUYẾT DƯỠNG NÃO 150mg+20mg', 'RENAPRIL 5MG 5mg'], 'VAIPE_P_TEST_73.png': ['BLOZA 50mg', 'GLUCOFAST 850 850mg'], 'VAIPE_P_TEST_74.png': ['VIPREDNI 16MG 16mg', 'PARTAMOL TAB. 500mg', 'CEFADROXIL 0,5g'], 'VAIPE_P_TEST_75.png': ['PARTAMOL TAB. 500mg', 'KATRYPSIN 4,2mg', 'CEFADROXIL 500MG 0,5g'], 'VAIPE_P_TEST_76.png': ['DROMASM FORT 80mg', 'KAGASDINE 20mg', 'METRONIDAZOL 250 250mg'], 'VAIPE_P_TEST_77.png': ['INBACID 10 10mg', 'SAVI PROLOL 5 5mg', 'ENALAPRIL 5mg'], 'VAIPE_P_TEST_78.png': ['HOẠT HUYẾT DƯỠNG NÃO 150mg+20mg', 'KAVASDIN 5 5mg'], 'VAIPE_P_TEST_79.png': ['HOẠT HUYẾT DƯỠNG NÃO 150mg+20mg', 'KAVASDIN 5 5mg'], 'VAIPE_P_TEST_8.png': ['Đinh lăng, bạch quả (Hoạt huyết dưỡng não) 150mg+20mg', 'Gliclazid (Golddicron) 30mg', 'Metformin (Meglucon 1000) 1000 mg'], 'VAIPE_P_TEST_80.png': ['HOẠT HUYẾT DƯỠNG NÃO 150mg+20mg', 'KAVASDIN 5 5mg'], 'VAIPE_P_TEST_81.png': ['HOẠT HUYẾT DƯỠNG NÃO BDF 150mg+5mg', 'KAVASDIN 5 5mg'], 'VAIPE_P_TEST_82.png': ['LAZIBET MR 60 60mg', 'GLUCOFAST 500 500mg'], 'VAIPE_P_TEST_83.png': ['LAZIBET MR 60 60mg', 'GLUCOFAST 500 500mg'], 'VAIPE_P_TEST_84.png': ['COSYNDO B 175mg+175mg+125mcg', 'DICLOFENAC 50mg'], 'VAIPE_P_TEST_85.png': ['MEDIBOGAN 200mg + 150mg + 16mg', 'CARDILOPIN 5mg'], 'VAIPE_P_TEST_86.png': ['SERGUROP 10mg', 'DIXIREIN 375mg', 'PANACTOL 500mg', 'CEFADROXIL 500MG 0,5g'], 'VAIPE_P_TEST_87.png': ['Đinh lăng, bạch quả (Hoạt huyết dưỡng não) 150mg+20mg', 'Paracetamol (Partamol Tab.) 500mg'], 'VAIPE_P_TEST_88.png': ['COSYNDO B 175mg+175mg+125mcg', 'HOẠT HUYẾT DƯỠNG NÃO 150mg+20mg'], 'VAIPE_P_TEST_89.png': ['SETBLOOD 115mg+100mg+50mcg', 'HOẠT HUYẾT DƯỠNG NÃO 150mg+20mg'], 'VAIPE_P_TEST_9.png': ['SERGUROP 10mg', 'PANACTOL 500mg', 'FABAMOX 500MG 500mg'], 'VAIPE_P_TEST_90.png': ['PANACTOL 500mg', 'HOẠT HUYẾT DƯỠNG NÃO 150mg+20mg'], 'VAIPE_P_TEST_91.png': ['HOẠT HUYẾT DƯỠNG NÃO QN 150mg+20mg', 'PANACTOL 500mg'], 'VAIPE_P_TEST_92.png': [\"DIAMICRON MR TAB 60MG 30'S 60mg\"], 'VAIPE_P_TEST_93.png': ['HOẠT HUYẾT DƯỠNG NÃO BDF 150mg+5mg', 'CARDILOPIN 5mg'], 'VAIPE_P_TEST_94.png': ['SERGUROP 10mg', 'CEFADROXIL 500MG 0,5g'], 'VAIPE_P_TEST_95.png': ['STACETAM 800MG 800mg', 'EBITAC 12.5 10mg + 12,5mg'], 'VAIPE_P_TEST_96.png': ['METRONIDAZOL 250 250mg', 'BỐ HUYẾT ÍCH NÃO BDF 40mg+300mg'], 'VAIPE_P_TEST_97.png': ['KAGASDINE 20mg', 'METRONIDAZOL 250 250mg', 'AMOXICILIN 500MG 500mg'], 'VAIPE_P_TEST_98.png': ['FUDCIME 200MG 200mg'], 'VAIPE_P_TEST_99.png': ['PANACTOL 500mg', 'NOVOXIM-500 0,5g']}\n"
     ]
    }
   ],
   "source": [
    "print(ocr)"
   ]
  },
  {
   "cell_type": "code",
   "execution_count": 11,
   "id": "d09934f1",
   "metadata": {},
   "outputs": [],
   "source": [
    "pres = {}\n",
    "\n",
    "for key, value in ocr.items():\n",
    "    labels = []\n",
    "    for text in value:\n",
    "        label = find_label(text)\n",
    "        labels.append(label)\n",
    "    pres[key] = labels"
   ]
  },
  {
   "cell_type": "code",
   "execution_count": 13,
   "id": "9b22869c",
   "metadata": {},
   "outputs": [
    {
     "name": "stdout",
     "output_type": "stream",
     "text": [
      "{'VAIPE_P_TEST_0.png': [8, 89, 10], 'VAIPE_P_TEST_1.png': [56], 'VAIPE_P_TEST_10.png': [54], 'VAIPE_P_TEST_100.png': [88, 19], 'VAIPE_P_TEST_101.png': [88, 19], 'VAIPE_P_TEST_102.png': [88, 19], 'VAIPE_P_TEST_103.png': [89, 30], 'VAIPE_P_TEST_104.png': [65, 79], 'VAIPE_P_TEST_105.png': [74, 2, 19], 'VAIPE_P_TEST_106.png': [103, 88], 'VAIPE_P_TEST_107.png': [88, 51, 26], 'VAIPE_P_TEST_108.png': [8], 'VAIPE_P_TEST_109.png': [1, 10], 'VAIPE_P_TEST_11.png': [54], 'VAIPE_P_TEST_110.png': [32, 72], 'VAIPE_P_TEST_111.png': [40], 'VAIPE_P_TEST_112.png': [100, 73, 89, 59, 19], 'VAIPE_P_TEST_113.png': [64, 31, 79], 'VAIPE_P_TEST_114.png': [73, 19], 'VAIPE_P_TEST_115.png': [89, 19], 'VAIPE_P_TEST_116.png': [13, 56], 'VAIPE_P_TEST_117.png': [46, 38, 54], 'VAIPE_P_TEST_118.png': [8, 46], 'VAIPE_P_TEST_119.png': [33, 54], 'VAIPE_P_TEST_12.png': [59, 73, 19], 'VAIPE_P_TEST_120.png': [13, 64], 'VAIPE_P_TEST_121.png': [24], 'VAIPE_P_TEST_122.png': [92], 'VAIPE_P_TEST_123.png': [68], 'VAIPE_P_TEST_124.png': [1, 26], 'VAIPE_P_TEST_125.png': [0, 26], 'VAIPE_P_TEST_126.png': [29, 10], 'VAIPE_P_TEST_127.png': [88], 'VAIPE_P_TEST_128.png': [2, 19], 'VAIPE_P_TEST_129.png': [35, 5], 'VAIPE_P_TEST_13.png': [38, 53], 'VAIPE_P_TEST_130.png': [35, 37], 'VAIPE_P_TEST_131.png': [89, 74, 10], 'VAIPE_P_TEST_132.png': [29, 89, 19], 'VAIPE_P_TEST_133.png': [89, 51], 'VAIPE_P_TEST_134.png': [74], 'VAIPE_P_TEST_135.png': [88, 46], 'VAIPE_P_TEST_136.png': [12, 8, 46], 'VAIPE_P_TEST_137.png': [38], 'VAIPE_P_TEST_138.png': [89, 24], 'VAIPE_P_TEST_139.png': [15, 2, 26], 'VAIPE_P_TEST_14.png': [53], 'VAIPE_P_TEST_140.png': [89], 'VAIPE_P_TEST_141.png': [15, 54], 'VAIPE_P_TEST_142.png': [64, 88, 10], 'VAIPE_P_TEST_143.png': [88, 2, 19], 'VAIPE_P_TEST_144.png': [32, 88, 19], 'VAIPE_P_TEST_145.png': [7, 89, 19], 'VAIPE_P_TEST_146.png': [2, 74, 26], 'VAIPE_P_TEST_147.png': [51, 10], 'VAIPE_P_TEST_148.png': [36, 51], 'VAIPE_P_TEST_149.png': [79, 37], 'VAIPE_P_TEST_15.png': [37, 54], 'VAIPE_P_TEST_150.png': [73, 2, 19], 'VAIPE_P_TEST_151.png': [64, 89, 10], 'VAIPE_P_TEST_152.png': [59, 10], 'VAIPE_P_TEST_153.png': [10, 46], 'VAIPE_P_TEST_154.png': [51, 89, 19], 'VAIPE_P_TEST_155.png': [33, 89, 19], 'VAIPE_P_TEST_156.png': [39, 0, 26], 'VAIPE_P_TEST_157.png': [52, 70, 26], 'VAIPE_P_TEST_158.png': [100, 7, 89, 19], 'VAIPE_P_TEST_159.png': [29, 88, 26, 84], 'VAIPE_P_TEST_16.png': [92, 12, 1], 'VAIPE_P_TEST_160.png': [7], 'VAIPE_P_TEST_161.png': [105, 0, 26], 'VAIPE_P_TEST_162.png': [88, 40, 64, 8], 'VAIPE_P_TEST_163.png': [73, 2, 88, 19], 'VAIPE_P_TEST_164.png': [100, 73, 89, 19], 'VAIPE_P_TEST_165.png': [45, 92], 'VAIPE_P_TEST_166.png': [64, 8], 'VAIPE_P_TEST_167.png': [12, 92, 1], 'VAIPE_P_TEST_168.png': [51, 23], 'VAIPE_P_TEST_169.png': [92, 12, 1], 'VAIPE_P_TEST_17.png': [7, 0], 'VAIPE_P_TEST_170.png': [100, 24], 'VAIPE_P_TEST_171.png': [95], 'VAIPE_P_TEST_18.png': [40, 64], 'VAIPE_P_TEST_19.png': [84], 'VAIPE_P_TEST_2.png': [56], 'VAIPE_P_TEST_20.png': [64, 40], 'VAIPE_P_TEST_21.png': [36, 10], 'VAIPE_P_TEST_22.png': [88, 73, 2, 27], 'VAIPE_P_TEST_23.png': [15, 15, 41, 79], 'VAIPE_P_TEST_24.png': [7, 88], 'VAIPE_P_TEST_25.png': [7, 88], 'VAIPE_P_TEST_26.png': [15, 79], 'VAIPE_P_TEST_27.png': [15, 79], 'VAIPE_P_TEST_28.png': [88, 29, 10], 'VAIPE_P_TEST_29.png': [15, 54], 'VAIPE_P_TEST_3.png': [51, 23], 'VAIPE_P_TEST_30.png': [103, 64], 'VAIPE_P_TEST_31.png': [73, 2, 88, 19], 'VAIPE_P_TEST_32.png': [25], 'VAIPE_P_TEST_33.png': [83], 'VAIPE_P_TEST_34.png': [51, 89, 10], 'VAIPE_P_TEST_35.png': [64, 72], 'VAIPE_P_TEST_36.png': [4], 'VAIPE_P_TEST_37.png': [100, 8], 'VAIPE_P_TEST_38.png': [64, 66, 10], 'VAIPE_P_TEST_39.png': [33], 'VAIPE_P_TEST_4.png': [89, 73, 19], 'VAIPE_P_TEST_40.png': [88, 2, 27], 'VAIPE_P_TEST_41.png': [64, 8, 46], 'VAIPE_P_TEST_42.png': [15, 51, 89, 10], 'VAIPE_P_TEST_43.png': [64, 46], 'VAIPE_P_TEST_44.png': [64, 46], 'VAIPE_P_TEST_45.png': [89, 26], 'VAIPE_P_TEST_46.png': [89, 26], 'VAIPE_P_TEST_47.png': [104, 89], 'VAIPE_P_TEST_48.png': [88, 26], 'VAIPE_P_TEST_49.png': [104, 89, 10], 'VAIPE_P_TEST_5.png': [58], 'VAIPE_P_TEST_50.png': [15, 89, 26], 'VAIPE_P_TEST_51.png': [89, 7], 'VAIPE_P_TEST_52.png': [100, 89, 19], 'VAIPE_P_TEST_53.png': [37, 53], 'VAIPE_P_TEST_54.png': [42], 'VAIPE_P_TEST_55.png': [37, 56], 'VAIPE_P_TEST_56.png': [1, 26], 'VAIPE_P_TEST_57.png': [12, 41, 11, 46], 'VAIPE_P_TEST_58.png': [15, 79], 'VAIPE_P_TEST_59.png': [6, 30], 'VAIPE_P_TEST_6.png': [89, 26], 'VAIPE_P_TEST_60.png': [36, 51, 10], 'VAIPE_P_TEST_61.png': [47, 54], 'VAIPE_P_TEST_62.png': [35], 'VAIPE_P_TEST_63.png': [35], 'VAIPE_P_TEST_64.png': [46, 37, 56], 'VAIPE_P_TEST_65.png': [64, 89, 51, 10], 'VAIPE_P_TEST_66.png': [88, 8], 'VAIPE_P_TEST_67.png': [70, 89, 26], 'VAIPE_P_TEST_68.png': [46], 'VAIPE_P_TEST_69.png': [36, 10], 'VAIPE_P_TEST_7.png': [12, 45], 'VAIPE_P_TEST_70.png': [89, 8], 'VAIPE_P_TEST_71.png': [89, 8], 'VAIPE_P_TEST_72.png': [64, 47], 'VAIPE_P_TEST_73.png': [33, 53], 'VAIPE_P_TEST_74.png': [73, 89, 19], 'VAIPE_P_TEST_75.png': [89, 7, 19], 'VAIPE_P_TEST_76.png': [36, 66, 51], 'VAIPE_P_TEST_77.png': [12, 31, 46], 'VAIPE_P_TEST_78.png': [64, 8], 'VAIPE_P_TEST_79.png': [64, 8], 'VAIPE_P_TEST_8.png': [15, 37, 56], 'VAIPE_P_TEST_80.png': [64, 8], 'VAIPE_P_TEST_81.png': [64, 8], 'VAIPE_P_TEST_82.png': [38, 54], 'VAIPE_P_TEST_83.png': [38, 54], 'VAIPE_P_TEST_84.png': [32, 39], 'VAIPE_P_TEST_85.png': [52, 8], 'VAIPE_P_TEST_86.png': [5, 2, 88, 19], 'VAIPE_P_TEST_87.png': [15, 89], 'VAIPE_P_TEST_88.png': [32, 64], 'VAIPE_P_TEST_89.png': [100, 64], 'VAIPE_P_TEST_9.png': [5, 88, 10], 'VAIPE_P_TEST_90.png': [88, 64], 'VAIPE_P_TEST_91.png': [64, 88], 'VAIPE_P_TEST_92.png': [37], 'VAIPE_P_TEST_93.png': [64, 8], 'VAIPE_P_TEST_94.png': [5, 19], 'VAIPE_P_TEST_95.png': [92, 45], 'VAIPE_P_TEST_96.png': [51, 65], 'VAIPE_P_TEST_97.png': [66, 51, 10], 'VAIPE_P_TEST_98.png': [34], 'VAIPE_P_TEST_99.png': [88, 10]}\n"
     ]
    }
   ],
   "source": [
    "print(pres)"
   ]
  },
  {
   "cell_type": "code",
   "execution_count": 12,
   "id": "5f1c8832",
   "metadata": {},
   "outputs": [],
   "source": [
    "fin_img_label = {}\n",
    "\n",
    "for key, value in pres.items():\n",
    "    key_name = key.split('.')[0].split\n",
    "    for pill in pres_pill[key]:\n",
    "        labels = []\n",
    "        for label in img_label[pill]:\n",
    "            if label['class_id'] not in value:\n",
    "                class_id = 107\n",
    "            else:\n",
    "                class_id = label['class_id']\n",
    "            labels.append({'class_id': class_id, 'x_min': label['x_min'], 'y_min': label['y_min'], 'x_max': label['x_max'], 'y_max': label['y_max'], 'confidence_score': label['confidence_score']})\n",
    "        fin_img_label[pill] = labels"
   ]
  },
  {
   "cell_type": "code",
   "execution_count": 150,
   "id": "6502ed84",
   "metadata": {},
   "outputs": [],
   "source": [
    "class_id = []\n",
    "x_min = []\n",
    "x_max = []\n",
    "y_min = []\n",
    "y_max = []\n",
    "confidence_score = []\n",
    "image_name = []\n",
    "cnt = 0\n",
    "\n",
    "for key, value in pre_results.items():\n",
    "    for dic1 in value:\n",
    "        for dic2 in fin_img_label[key]:\n",
    "            if dic2['x_min'] == dic1['x_min'] and dic2['y_min'] == dic1['y_min'] and dic2['x_max'] == dic1['x_max'] and dic2['y_max'] == dic1['y_max'] and dic1['confidence_score'] == dic2['confidence_score']:\n",
    "                image_name.append(key)\n",
    "                class_id.append(dic2['class_id'])\n",
    "                confidence_score.append(dic2['confidence_score'])\n",
    "                x_min.append(dic2['x_min'])\n",
    "                y_min.append(dic2['y_min'])\n",
    "                x_max.append(dic2['x_max'])\n",
    "                y_max.append(dic2['y_max'])\n",
    "                \n",
    "results = {'image_name': image_name, 'class_id': class_id, 'confidence_score': confidence_score, 'x_min': x_min, 'y_min': y_min, 'x_max': x_max, 'y_max': y_max}"
   ]
  },
  {
   "cell_type": "code",
   "execution_count": 160,
   "id": "aa1d4505",
   "metadata": {},
   "outputs": [
    {
     "name": "stdout",
     "output_type": "stream",
     "text": [
      "5300\n"
     ]
    }
   ],
   "source": [
    "print(len(image_name))"
   ]
  },
  {
   "cell_type": "code",
   "execution_count": 151,
   "id": "66cd2115",
   "metadata": {},
   "outputs": [],
   "source": [
    "df = pd.DataFrame(data = results)"
   ]
  },
  {
   "cell_type": "code",
   "execution_count": 153,
   "id": "25bea98d",
   "metadata": {},
   "outputs": [],
   "source": [
    "df.to_csv('results.csv', index = False)"
   ]
  }
 ],
 "metadata": {
  "kernelspec": {
   "display_name": "Python 3 (ipykernel)",
   "language": "python",
   "name": "python3"
  },
  "language_info": {
   "codemirror_mode": {
    "name": "ipython",
    "version": 3
   },
   "file_extension": ".py",
   "mimetype": "text/x-python",
   "name": "python",
   "nbconvert_exporter": "python",
   "pygments_lexer": "ipython3",
   "version": "3.9.7"
  }
 },
 "nbformat": 4,
 "nbformat_minor": 5
}
