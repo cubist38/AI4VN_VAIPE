{
 "cells": [
  {
   "cell_type": "markdown",
   "metadata": {},
   "source": [
    "## 1. Tạo data để generate file kết quả\n",
    "\n",
    "Chuẩn bị file `pill_pres_map.json` cho dataset muốn generate file kết quả. (Có thể dùng https://www.kaggle.com/datasets/tunhunhminh/resize-vaipe?select=pill_pres_map_val.json)\n",
    "\n",
    "Thư mục `data` có cấu trúc như sau:\n",
    "\n",
    "```\n",
    "---data/\n",
    "    |---public_train/\n",
    "        |---pill/\n",
    "            |---image/\n",
    "        |---prescription\n",
    "            |---image/\n",
    "    |---personal_val/\n",
    "        |---pill/\n",
    "            |---image/\n",
    "        |---prescription\n",
    "            |---image/\n",
    "        |---pill_pres_map.json\n",
    "```\n",
    "\n",
    "Trong đó, các thư mục trong `personal_val` đều là rỗng.\n",
    "\n",
    "Đặt script này cùng cấp với `data` và chạy để tạo ra `personal_val` rồi dùng nó để generate.\n",
    "\n",
    "**Lưu ý.** Vì cần tính thử wmAP nên script tạo data này chắc chắn sử dụng các ảnh thuộc public_train."
   ]
  },
  {
   "cell_type": "code",
   "execution_count": 1,
   "metadata": {},
   "outputs": [],
   "source": [
    "from sklearn.model_selection import train_test_split\n",
    "import os\n",
    "import shutil\n",
    "import json"
   ]
  },
  {
   "cell_type": "code",
   "execution_count": 2,
   "metadata": {},
   "outputs": [],
   "source": [
    "path = 'data/personal_val/pill_pres_map.json'\n",
    "\n",
    "pp_map = json.load(open(path))"
   ]
  },
  {
   "cell_type": "code",
   "execution_count": 3,
   "metadata": {},
   "outputs": [
    {
     "data": {
      "text/plain": [
       "352"
      ]
     },
     "execution_count": 3,
     "metadata": {},
     "output_type": "execute_result"
    }
   ],
   "source": [
    "len(pp_map)"
   ]
  },
  {
   "cell_type": "code",
   "execution_count": 4,
   "metadata": {},
   "outputs": [
    {
     "data": {
      "text/plain": [
       "{'pres': 'VAIPE_P_TRAIN_425.json',\n",
       " 'pill': ['VAIPE_P_425_0.json',\n",
       "  'VAIPE_P_425_1.json',\n",
       "  'VAIPE_P_425_2.json',\n",
       "  'VAIPE_P_425_3.json',\n",
       "  'VAIPE_P_425_4.json']}"
      ]
     },
     "execution_count": 4,
     "metadata": {},
     "output_type": "execute_result"
    }
   ],
   "source": [
    "pp_map[0]"
   ]
  },
  {
   "cell_type": "code",
   "execution_count": 5,
   "metadata": {},
   "outputs": [],
   "source": [
    "PILL_ROOT = 'data/public_train/pill/image/'\n",
    "PRES_ROOT = 'data/public_train/prescription/image/'"
   ]
  },
  {
   "cell_type": "code",
   "execution_count": 8,
   "metadata": {},
   "outputs": [],
   "source": [
    "PILL_OUT = 'data/personal_val/pill/image'\n",
    "PRES_OUT = 'data/personal_val/prescription/image'"
   ]
  },
  {
   "cell_type": "code",
   "execution_count": 9,
   "metadata": {},
   "outputs": [],
   "source": [
    "for item in pp_map:\n",
    "    pres_name = item['pres'].replace('.json', '.png')\n",
    "    pill_names = [x.replace('.json', '.jpg') for x in item['pill']]\n",
    "\n",
    "    shutil.copy(os.path.join(PRES_ROOT, pres_name), os.path.join(PRES_OUT, pres_name))\n",
    "    for pill in pill_names:\n",
    "        shutil.copy(os.path.join(PILL_ROOT, pill), os.path.join(PILL_OUT, pill))"
   ]
  },
  {
   "cell_type": "code",
   "execution_count": 10,
   "metadata": {},
   "outputs": [
    {
     "name": "stdout",
     "output_type": "stream",
     "text": [
      "Compelete OCR steps...\n"
     ]
    },
    {
     "name": "stderr",
     "output_type": "stream",
     "text": [
      "YOLOv5  2022-7-27 Python-3.8.12 torch-1.9.1+cu111 CUDA:0 (NVIDIA GeForce GTX 1660 Ti, 6144MiB)\n",
      "\n",
      "Fusing layers... \n",
      "Model summary: 213 layers, 7339159 parameters, 0 gradients, 16.8 GFLOPs\n",
      "Adding AutoShape... \n"
     ]
    },
    {
     "name": "stdout",
     "output_type": "stream",
     "text": [
      "Compelete Object detection steps...\n",
      "Compelete Final steps...\n"
     ]
    }
   ],
   "source": [
    "from results.run import get_result\n",
    "\n",
    "data_path = 'data/personal_val'\n",
    "get_result(data_path, output_path = './results/csv/personal_result.csv')"
   ]
  },
  {
   "cell_type": "markdown",
   "metadata": {},
   "source": [
    "## 2. Tính wmAP\n"
   ]
  },
  {
   "cell_type": "code",
   "execution_count": 11,
   "metadata": {},
   "outputs": [
    {
     "name": "stdout",
     "output_type": "stream",
     "text": [
      "loading annotations into memory...\n",
      "Done (t=0.21s)\n",
      "creating index...\n",
      "index created!\n",
      "Loading and preparing results...\n",
      "DONE (t=0.05s)\n",
      "creating index...\n",
      "index created!\n",
      "Running per image evaluation...\n",
      "Evaluate annotation type *bbox*\n",
      "DONE (t=7.41s).\n",
      "Accumulating evaluation results...\n",
      "DONE (t=1.51s).\n",
      " Average Precision  (AP) @[ IoU=0.50:0.95 | area=   all | maxDets=100 ] = 0.417\n",
      " Average Precision  (AP) @[ IoU=0.50      | area=   all | maxDets=100 ] = 0.515\n",
      " Average Precision  (AP) @[ IoU=0.75      | area=   all | maxDets=100 ] = 0.498\n",
      " Average Precision  (AP) @[ IoU=0.50:0.95 | area= small | maxDets=100 ] = 0.012\n",
      " Average Precision  (AP) @[ IoU=0.50:0.95 | area=medium | maxDets=100 ] = 0.157\n",
      " Average Precision  (AP) @[ IoU=0.50:0.95 | area= large | maxDets=100 ] = 0.411\n",
      " Average Recall     (AR) @[ IoU=0.50:0.95 | area=   all | maxDets=  1 ] = 0.355\n",
      " Average Recall     (AR) @[ IoU=0.50:0.95 | area=   all | maxDets= 10 ] = 0.475\n",
      " Average Recall     (AR) @[ IoU=0.50:0.95 | area=   all | maxDets=100 ] = 0.475\n",
      " Average Recall     (AR) @[ IoU=0.50:0.95 | area= small | maxDets=100 ] = 0.013\n",
      " Average Recall     (AR) @[ IoU=0.50:0.95 | area=medium | maxDets=100 ] = 0.211\n",
      " Average Recall     (AR) @[ IoU=0.50:0.95 | area= large | maxDets=100 ] = 0.468\n",
      "[     0.4173     0.51526     0.49818    0.012218     0.15686     0.41135      0.3553     0.47466     0.47466    0.012821     0.21088     0.46755]\n",
      "wmAP50: 0.5152552875039124\n",
      "wmAP: 0.41729834758345835\n"
     ]
    }
   ],
   "source": [
    "from evaluate.run import eval\n",
    "eval('./results/csv/personal_result.csv', 'data/train.csv')"
   ]
  }
 ],
 "metadata": {
  "kernelspec": {
   "display_name": "Python 3",
   "language": "python",
   "name": "python3"
  },
  "language_info": {
   "codemirror_mode": {
    "name": "ipython",
    "version": 3
   },
   "file_extension": ".py",
   "mimetype": "text/x-python",
   "name": "python",
   "nbconvert_exporter": "python",
   "pygments_lexer": "ipython3",
   "version": "3.8.12"
  },
  "vscode": {
   "interpreter": {
    "hash": "7fb8039a8f54b6eaa53411e1600db4762c5d3778c5768c8cb602a31c798a2c38"
   }
  }
 },
 "nbformat": 4,
 "nbformat_minor": 2
}
